{
 "cells": [
  {
   "cell_type": "markdown",
   "metadata": {},
   "source": [
    "___\n",
    "\n",
    "<a href='https://www.udemy.com/user/joseportilla/'><img src='../Pierian_Data_Logo.png'/></a>\n",
    "___\n",
    "<center><em>Content Copyright by Pierian Data</em></center>"
   ]
  },
  {
   "cell_type": "markdown",
   "metadata": {},
   "source": [
    "# PDFs and Spreadsheets Puzzle Exercise\n",
    "\n",
    "Let's test your skills, the files needed for this puzzle exercise\n",
    "\n",
    "You will need to work with two files for this exercise and solve the following tasks:\n",
    "\n",
    "* Task One: Use Python to extract the Google Drive link from the .csv file. (Hint: Its along the diagonal from top left to bottom right).\n",
    "* Task Two: Download the PDF from the Google Drive link (we already downloaded it for you just in case you can't download from Google Drive) and find the phone number that is in the document. Note: There are different ways of formatting a phone number!"
   ]
  },
  {
   "cell_type": "markdown",
   "metadata": {},
   "source": [
    "## Task One: Grab the Google Drive Link from .csv File"
   ]
  },
  {
   "cell_type": "code",
   "execution_count": 6,
   "metadata": {},
   "outputs": [],
   "source": [
    "import csv"
   ]
  },
  {
   "cell_type": "code",
   "execution_count": 18,
   "metadata": {},
   "outputs": [
    {
     "name": "stdout",
     "output_type": "stream",
     "text": [
      "https://drive.google.com/open?id=1G6SEgg018UB4_4xsAJJ5TdzrhmXipr4Q\n"
     ]
    }
   ],
   "source": [
    "data = open('C:\\\\Users\\\\mggol\\\\OneDrive\\\\Documents\\\\GitHub\\\\Complete-Python-3-Bootcamp\\\\15-PDFs-and-Spreadsheets\\\\Exercise_Files\\\\find_the_link.csv')\n",
    "csv_data = list(csv.reader(data))\n",
    "\n",
    "link = ''\n",
    "\n",
    "for i, line in enumerate(csv_data):\n",
    "    link += line[i]\n",
    "    \n",
    "print(link)\n",
    "    \n",
    "\n",
    "#https://drive.google.com/open?id=1G6SEgg018UB4_4xsAJJ5TdzrhmXipr4Q"
   ]
  },
  {
   "cell_type": "markdown",
   "metadata": {},
   "source": [
    "## Task Two: Download the PDF from the Google Drive link and find the phone number that is in the document. "
   ]
  },
  {
   "cell_type": "code",
   "execution_count": 30,
   "metadata": {},
   "outputs": [
    {
     "name": "stdout",
     "output_type": "stream",
     "text": [
      "['505.503.4455']\n"
     ]
    }
   ],
   "source": [
    "import PyPDF2\n",
    "import re\n",
    "\n",
    "f = open('C:\\\\Users\\\\mggol\\\\OneDrive\\\\Documents\\\\GitHub\\\\Complete-Python-3-Bootcamp\\\\15-PDFs-and-Spreadsheets\\\\Exercise_Files\\\\Find_the_Phone_Number.pdf','rb')\n",
    "\n",
    "pdf = PyPDF2.PdfFileReader(f)\n",
    "\n",
    "for i in range(pdf.numPages):\n",
    "    page = pdf.getPage(i)\n",
    "    text = page.extractText()\n",
    "    \n",
    "    num = re.findall(r'\\d{3}.\\d{3}.\\d{4}', text)\n",
    "    \n",
    "    if len(num) != 0:\n",
    "        print(num)\n",
    "\n",
    "# 505 503 4455"
   ]
  },
  {
   "cell_type": "code",
   "execution_count": null,
   "metadata": {},
   "outputs": [],
   "source": []
  }
 ],
 "metadata": {
  "anaconda-cloud": {},
  "kernelspec": {
   "display_name": "Python 3 (ipykernel)",
   "language": "python",
   "name": "python3"
  },
  "language_info": {
   "codemirror_mode": {
    "name": "ipython",
    "version": 3
   },
   "file_extension": ".py",
   "mimetype": "text/x-python",
   "name": "python",
   "nbconvert_exporter": "python",
   "pygments_lexer": "ipython3",
   "version": "3.9.12"
  }
 },
 "nbformat": 4,
 "nbformat_minor": 2
}
